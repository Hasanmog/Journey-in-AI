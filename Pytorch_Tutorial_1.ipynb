{
  "nbformat": 4,
  "nbformat_minor": 0,
  "metadata": {
    "colab": {
      "provenance": []
    },
    "kernelspec": {
      "name": "python3",
      "display_name": "Python 3"
    },
    "language_info": {
      "name": "python"
    },
    "accelerator": "GPU",
    "gpuClass": "standard"
  },
  "cells": [
    {
      "cell_type": "code",
      "execution_count": 2,
      "metadata": {
        "id": "ZgxYNygG4cw4"
      },
      "outputs": [],
      "source": [
        "import numpy as np\n",
        "import torch"
      ]
    },
    {
      "cell_type": "code",
      "source": [
        "#Data Initialization\n",
        "data = [[1,2] , [3,4]]\n",
        "x_data = torch.tensor(data)\n",
        "print(x_data)"
      ],
      "metadata": {
        "colab": {
          "base_uri": "https://localhost:8080/"
        },
        "id": "BLgrK_ez470q",
        "outputId": "f5ba4ba7-d7b2-41c3-9efc-59ed7a594c40"
      },
      "execution_count": 3,
      "outputs": [
        {
          "output_type": "stream",
          "name": "stdout",
          "text": [
            "tensor([[1, 2],\n",
            "        [3, 4]])\n"
          ]
        }
      ]
    },
    {
      "cell_type": "code",
      "source": [
        "data = np.array(data)\n",
        "x_np = torch.from_numpy(data)\n",
        "print(x_np)"
      ],
      "metadata": {
        "colab": {
          "base_uri": "https://localhost:8080/"
        },
        "id": "9EmasPon5VcP",
        "outputId": "7bf48bc0-b729-4056-d8d3-9997cad92f88"
      },
      "execution_count": 4,
      "outputs": [
        {
          "output_type": "stream",
          "name": "stdout",
          "text": [
            "tensor([[1, 2],\n",
            "        [3, 4]])\n"
          ]
        }
      ]
    },
    {
      "cell_type": "code",
      "source": [
        "x_ones = torch.ones_like(x_data)\n",
        "print(x_ones)\n",
        "x_random = torch.rand_like(x_data , dtype=torch.float)\n",
        "print(f\"Random Tensor:\\n {x_random}\\n\")"
      ],
      "metadata": {
        "colab": {
          "base_uri": "https://localhost:8080/"
        },
        "id": "_piwK1m55vfX",
        "outputId": "4f7de0aa-0e31-4ac8-df10-50d4621d2f64"
      },
      "execution_count": 5,
      "outputs": [
        {
          "output_type": "stream",
          "name": "stdout",
          "text": [
            "tensor([[1, 1],\n",
            "        [1, 1]])\n",
            "Random Tensor:\n",
            " tensor([[0.3530, 0.6230],\n",
            "        [0.5892, 0.9307]])\n",
            "\n"
          ]
        }
      ]
    },
    {
      "cell_type": "code",
      "source": [
        "shape = (2,3)\n",
        "rand_tensor = torch.rand(shape)\n",
        "ones_tensor = torch.ones(shape)\n",
        "zeros_tensor = torch.zeros(shape)\n",
        "print(f\"random tensor:\\n{rand_tensor}\\n\")\n",
        "print(f\"ones tensor:\\n{ones_tensor}\\n\")\n",
        "print(f\"zeros tensor:\\n{zeros_tensor}\\n\")"
      ],
      "metadata": {
        "colab": {
          "base_uri": "https://localhost:8080/"
        },
        "id": "E0zCGbQI752g",
        "outputId": "fdeb2c55-75c6-4dfe-f2dd-51eda7281567"
      },
      "execution_count": 6,
      "outputs": [
        {
          "output_type": "stream",
          "name": "stdout",
          "text": [
            "random tensor:\n",
            "tensor([[0.8548, 0.3835, 0.9384],\n",
            "        [0.0610, 0.4567, 0.4667]])\n",
            "\n",
            "ones tensor:\n",
            "tensor([[1., 1., 1.],\n",
            "        [1., 1., 1.]])\n",
            "\n",
            "zeros tensor:\n",
            "tensor([[0., 0., 0.],\n",
            "        [0., 0., 0.]])\n",
            "\n"
          ]
        }
      ]
    },
    {
      "cell_type": "code",
      "source": [
        "# Tensor Attributes\n",
        "tensor = torch.rand(3,4)\n",
        "print(f\" tensor:\\n{tensor}\\n\")\n",
        "print(f\" tensor_shape:\\t{tensor.shape}\\n\")\n",
        "print(f\" tensor_type:\\t{tensor.dtype}\\n\")\n",
        "print(f\" tensor_device:\\t{tensor.device}\\n\")"
      ],
      "metadata": {
        "colab": {
          "base_uri": "https://localhost:8080/"
        },
        "id": "cF5nX8KQ8ZBw",
        "outputId": "afbd5ede-bbd2-4259-e21b-8cf2e25ee6ee"
      },
      "execution_count": 7,
      "outputs": [
        {
          "output_type": "stream",
          "name": "stdout",
          "text": [
            " tensor:\n",
            "tensor([[0.5265, 0.8133, 0.3753, 0.7698],\n",
            "        [0.3475, 0.0139, 0.3594, 0.6352],\n",
            "        [0.4509, 0.9027, 0.5610, 0.9757]])\n",
            "\n",
            " tensor_shape:\ttorch.Size([3, 4])\n",
            "\n",
            " tensor_type:\ttorch.float32\n",
            "\n",
            " tensor_device:\tcpu\n",
            "\n"
          ]
        }
      ]
    },
    {
      "cell_type": "code",
      "source": [
        "#Tensor Opertaions\n",
        "#We move our tensor to the GPU if available\n",
        "if torch.cuda.is_available():\n",
        "   tensor = tensor.to('cuda') \n",
        "   print(f\"tensor_device:\\t{tensor.device}\")\n"
      ],
      "metadata": {
        "colab": {
          "base_uri": "https://localhost:8080/"
        },
        "id": "GnwPINNf9xir",
        "outputId": "12fb65a9-8b2f-488a-fe2f-94ff3adc5289"
      },
      "execution_count": 9,
      "outputs": [
        {
          "output_type": "stream",
          "name": "stdout",
          "text": [
            "tensor_device:\tcuda:0\n"
          ]
        }
      ]
    },
    {
      "cell_type": "code",
      "source": [
        "tensor_1 = torch.rand(size=(2,2) , dtype=float)\n",
        "tensor_2 = torch.rand(size=(2,2) , dtype=float)\n",
        "tensor_3 = torch.cat([tensor_1 , tensor_2], dim=1)\n",
        "print(tensor_3.shape)\n",
        "print(tensor_1)\n",
        "print(tensor_2)\n",
        "print(tensor_3)"
      ],
      "metadata": {
        "colab": {
          "base_uri": "https://localhost:8080/"
        },
        "id": "HV_FzIlX-z_g",
        "outputId": "a439b188-f834-4ecd-eed6-1766c1f204ad"
      },
      "execution_count": 24,
      "outputs": [
        {
          "output_type": "stream",
          "name": "stdout",
          "text": [
            "torch.Size([2, 4])\n",
            "tensor([[0.4409, 0.2585],\n",
            "        [0.8328, 0.2248]], dtype=torch.float64)\n",
            "tensor([[0.0410, 0.4994],\n",
            "        [0.6376, 0.7474]], dtype=torch.float64)\n",
            "tensor([[0.4409, 0.2585, 0.0410, 0.4994],\n",
            "        [0.8328, 0.2248, 0.6376, 0.7474]], dtype=torch.float64)\n"
          ]
        }
      ]
    },
    {
      "cell_type": "code",
      "source": [
        "tensor_4 = tensor_1.mul(tensor_2) # element-wise product\n",
        "print(tensor_4)\n",
        "tensor_5 = tensor_1.mul(tensor_2.T)# matrix multiplication\n",
        "print(tensor_5)"
      ],
      "metadata": {
        "colab": {
          "base_uri": "https://localhost:8080/"
        },
        "id": "7sRQvamqA39f",
        "outputId": "c2d1eccb-ab1f-4b8b-f2ba-f4618e76a3cd"
      },
      "execution_count": 29,
      "outputs": [
        {
          "output_type": "stream",
          "name": "stdout",
          "text": [
            "tensor([[0.0181, 0.1291],\n",
            "        [0.5311, 0.1680]], dtype=torch.float64)\n",
            "tensor([[0.0181, 0.1649],\n",
            "        [0.4159, 0.1680]], dtype=torch.float64)\n"
          ]
        }
      ]
    },
    {
      "cell_type": "code",
      "source": [
        "# Bridge with Numpy\n",
        "t = torch.ones(2,2)\n",
        "n = t.numpy()\n",
        "t.add_(2)\n",
        "print(f'torch:{t}\\n')\n",
        "print(f'numpy:{n}')"
      ],
      "metadata": {
        "colab": {
          "base_uri": "https://localhost:8080/"
        },
        "id": "4CjraAhVBf_Y",
        "outputId": "e72049d6-29e4-48e4-cfc9-5bfa7295c6a8"
      },
      "execution_count": 34,
      "outputs": [
        {
          "output_type": "stream",
          "name": "stdout",
          "text": [
            "torch:tensor([[3., 3.],\n",
            "        [3., 3.]])\n",
            "\n",
            "numpy:[[3. 3.]\n",
            " [3. 3.]]\n"
          ]
        }
      ]
    }
  ]
}